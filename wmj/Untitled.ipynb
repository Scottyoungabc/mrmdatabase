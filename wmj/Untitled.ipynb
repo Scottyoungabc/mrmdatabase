{
 "cells": [
  {
   "cell_type": "code",
   "execution_count": 55,
   "metadata": {},
   "outputs": [
    {
     "data": {
      "text/html": [
       "<div>\n",
       "<style scoped>\n",
       "    .dataframe tbody tr th:only-of-type {\n",
       "        vertical-align: middle;\n",
       "    }\n",
       "\n",
       "    .dataframe tbody tr th {\n",
       "        vertical-align: top;\n",
       "    }\n",
       "\n",
       "    .dataframe thead th {\n",
       "        text-align: right;\n",
       "    }\n",
       "</style>\n",
       "<table border=\"1\" class=\"dataframe\">\n",
       "  <thead>\n",
       "    <tr style=\"text-align: right;\">\n",
       "      <th></th>\n",
       "      <th>name</th>\n",
       "      <th>ID</th>\n",
       "      <th>CAS</th>\n",
       "      <th>Unnamed: 3</th>\n",
       "      <th>EC50</th>\n",
       "      <th>smiles</th>\n",
       "    </tr>\n",
       "  </thead>\n",
       "  <tbody>\n",
       "    <tr>\n",
       "      <th>0</th>\n",
       "      <td>Tetrabromo bisphenol A</td>\n",
       "      <td>TBBPA</td>\n",
       "      <td>79-94-7</td>\n",
       "      <td>NaN</td>\n",
       "      <td>0.65</td>\n",
       "      <td>CC(C)(C1=CC(=C(C(=C1)Br)O)Br)C2=CC(=C(C(=C2)Br...</td>\n",
       "    </tr>\n",
       "    <tr>\n",
       "      <th>1</th>\n",
       "      <td>Tris(1,3-dichloro-2-propyl)phosphate</td>\n",
       "      <td>TDCPP</td>\n",
       "      <td>13674-87-8</td>\n",
       "      <td>NaN</td>\n",
       "      <td>2.81</td>\n",
       "      <td>C(C(CCl)OP(=O)(OC(CCl)CCl)OC(CCl)CCl)Cl</td>\n",
       "    </tr>\n",
       "    <tr>\n",
       "      <th>2</th>\n",
       "      <td>Triphenyl phosphate</td>\n",
       "      <td>TPP</td>\n",
       "      <td>115-86-6</td>\n",
       "      <td>NaN</td>\n",
       "      <td>2.66</td>\n",
       "      <td>C1=CC=C(C=C1)OP(=O)(OC2=CC=CC=C2)OC3=CC=CC=C3</td>\n",
       "    </tr>\n",
       "    <tr>\n",
       "      <th>3</th>\n",
       "      <td>Benzyl Butyl Phthalate</td>\n",
       "      <td>BBP</td>\n",
       "      <td>85-68-7</td>\n",
       "      <td>NaN</td>\n",
       "      <td>0.61</td>\n",
       "      <td>CCCCOC(=O)C1=CC=CC=C1C(=O)OCC2=CC=CC=C2</td>\n",
       "    </tr>\n",
       "    <tr>\n",
       "      <th>4</th>\n",
       "      <td>Methyl paraben</td>\n",
       "      <td>MP</td>\n",
       "      <td>99-76-3</td>\n",
       "      <td>NaN</td>\n",
       "      <td>2.34</td>\n",
       "      <td>COC(=O)C1=CC=C(C=C1)O</td>\n",
       "    </tr>\n",
       "  </tbody>\n",
       "</table>\n",
       "</div>"
      ],
      "text/plain": [
       "                                   name     ID         CAS  Unnamed: 3  EC50  \\\n",
       "0                Tetrabromo bisphenol A  TBBPA     79-94-7         NaN  0.65   \n",
       "1  Tris(1,3-dichloro-2-propyl)phosphate  TDCPP  13674-87-8         NaN  2.81   \n",
       "2                   Triphenyl phosphate    TPP    115-86-6         NaN  2.66   \n",
       "3                Benzyl Butyl Phthalate    BBP     85-68-7         NaN  0.61   \n",
       "4                        Methyl paraben     MP     99-76-3         NaN  2.34   \n",
       "\n",
       "                                              smiles  \n",
       "0  CC(C)(C1=CC(=C(C(=C1)Br)O)Br)C2=CC(=C(C(=C2)Br...  \n",
       "1            C(C(CCl)OP(=O)(OC(CCl)CCl)OC(CCl)CCl)Cl  \n",
       "2      C1=CC=C(C=C1)OP(=O)(OC2=CC=CC=C2)OC3=CC=CC=C3  \n",
       "3            CCCCOC(=O)C1=CC=CC=C1C(=O)OCC2=CC=CC=C2  \n",
       "4                              COC(=O)C1=CC=C(C=C1)O  "
      ]
     },
     "execution_count": 55,
     "metadata": {},
     "output_type": "execute_result"
    }
   ],
   "source": [
    "import csv\n",
    "import pandas as pd\n",
    "import os\n",
    "directory = 'D:/jupyter_workspace/wmj'\n",
    "# paperdat = pd.read_csv(\"2014acdata.csv\")\n",
    "filename = 'wmj_smiles.csv'\n",
    "mydat = pd.read_csv(os.path.join(directory,filename))\n",
    "mydat.head()"
   ]
  },
  {
   "cell_type": "code",
   "execution_count": null,
   "metadata": {},
   "outputs": [],
   "source": [
    "import pandas as pd\n",
    "import numpy as np\n",
    "import matplotlib.pyplot as plt\n",
    "from sklearn.model_selection import train_test_split\n",
    "from sklearn.preprocessing import StandardScaler, MinMaxScaler\n",
    "\n",
    "\n",
    "import tensorflow as tf\n",
    "from keras.layers import Dense, Input, Activation\n",
    "from keras.layers import BatchNormalization,Add,Dropout\n",
    "from keras.optimizers import Adam\n",
    "from keras.models import Model, load_model\n",
    "from keras import callbacks\n",
    "from keras import backend as K\n",
    "from keras.layers.advanced_activations import LeakyReLU\n",
    "import warnings\n",
    "warnings.filterwarnings(\"ignore\")\n",
    "warnings.filterwarnings(action=\"ignore\",category=DeprecationWarning)\n",
    "warnings.filterwarnings(action=\"ignore\",category=FutureWarning)\n",
    "import os\n",
    "\n",
    "import pandas as pd\n",
    "import numpy as np\n",
    "import matplotlib.pyplot as plt\n",
    "from sklearn.preprocessing import MinMaxScaler\n",
    "from sklearn.ensemble import RandomForestRegressor\n",
    "%matplotlib inline"
   ]
  },
  {
   "cell_type": "code",
   "execution_count": 56,
   "metadata": {},
   "outputs": [
    {
     "name": "stdout",
     "output_type": "stream",
     "text": [
      "\n"
     ]
    }
   ],
   "source": [
    "#good smiles  check ahead of every mds calculation\n",
    "smi = mydat['smiles']\n",
    "goodsmi =[]\n",
    "for a in smi:\n",
    "    try:\n",
    "        b= Chem.CanonSmiles(a)\n",
    "        goodsmi.append(b)\n",
    "    except:\n",
    "        print('Invalid SMILES:',a)\n",
    "print()"
   ]
  },
  {
   "cell_type": "code",
   "execution_count": 131,
   "metadata": {},
   "outputs": [
    {
     "name": "stdout",
     "output_type": "stream",
     "text": [
      "descriptors number: 1826\n"
     ]
    },
    {
     "name": "stderr",
     "output_type": "stream",
     "text": [
      "100%|██████████| 40/40 [00:06<00:00,  5.84it/s]\n"
     ]
    }
   ],
   "source": [
    "#import rdkit and rdkit chem\n",
    "from rdkit import Chem\n",
    "from mordred import Calculator, descriptors\n",
    "#create descriptor calculator with all descriptors including 3D descriptors，check the smiles are right with a for loop\n",
    "calc=Calculator(descriptors, ignore_3D=False)\n",
    "lenofmds = len(calc.descriptors)\n",
    "print(\"descriptors number:{:5}\".format(lenofmds))\n",
    "#read smiles list from csv file\n",
    "mols=[Chem.MolFromSmiles(smi) for smi in mydat['smiles']]\n",
    "mddf = calc.pandas(mols)\n",
    "#output the result\n",
    "# mddf.to_csv(\"wmjEC50_mds.csv\")"
   ]
  },
  {
   "cell_type": "code",
   "execution_count": 145,
   "metadata": {},
   "outputs": [
    {
     "name": "stdout",
     "output_type": "stream",
     "text": [
      "(40, 1826)\n"
     ]
    },
    {
     "data": {
      "text/html": [
       "<div>\n",
       "<style scoped>\n",
       "    .dataframe tbody tr th:only-of-type {\n",
       "        vertical-align: middle;\n",
       "    }\n",
       "\n",
       "    .dataframe tbody tr th {\n",
       "        vertical-align: top;\n",
       "    }\n",
       "\n",
       "    .dataframe thead th {\n",
       "        text-align: right;\n",
       "    }\n",
       "</style>\n",
       "<table border=\"1\" class=\"dataframe\">\n",
       "  <thead>\n",
       "    <tr style=\"text-align: right;\">\n",
       "      <th></th>\n",
       "      <th>ABC</th>\n",
       "      <th>ABCGG</th>\n",
       "      <th>nAcid</th>\n",
       "      <th>nBase</th>\n",
       "      <th>nAromAtom</th>\n",
       "      <th>nAromBond</th>\n",
       "      <th>nAtom</th>\n",
       "      <th>nHeavyAtom</th>\n",
       "      <th>nSpiro</th>\n",
       "      <th>nBridgehead</th>\n",
       "      <th>...</th>\n",
       "      <th>SRW09</th>\n",
       "      <th>SRW10</th>\n",
       "      <th>TSRW10</th>\n",
       "      <th>MW</th>\n",
       "      <th>AMW</th>\n",
       "      <th>WPath</th>\n",
       "      <th>WPol</th>\n",
       "      <th>Zagreb1</th>\n",
       "      <th>Zagreb2</th>\n",
       "      <th>mZagreb2</th>\n",
       "    </tr>\n",
       "  </thead>\n",
       "  <tbody>\n",
       "    <tr>\n",
       "      <th>0</th>\n",
       "      <td>16.245546</td>\n",
       "      <td>14.372897</td>\n",
       "      <td>0</td>\n",
       "      <td>0</td>\n",
       "      <td>12</td>\n",
       "      <td>12</td>\n",
       "      <td>33</td>\n",
       "      <td>21</td>\n",
       "      <td>0</td>\n",
       "      <td>0</td>\n",
       "      <td>...</td>\n",
       "      <td>0.0</td>\n",
       "      <td>10.170648</td>\n",
       "      <td>55.418626</td>\n",
       "      <td>539.757078</td>\n",
       "      <td>16.356275</td>\n",
       "      <td>876</td>\n",
       "      <td>38</td>\n",
       "      <td>112.0</td>\n",
       "      <td>134.0</td>\n",
       "      <td>4.444444</td>\n",
       "    </tr>\n",
       "    <tr>\n",
       "      <th>1</th>\n",
       "      <td>13.593947</td>\n",
       "      <td>13.914364</td>\n",
       "      <td>0</td>\n",
       "      <td>0</td>\n",
       "      <td>0</td>\n",
       "      <td>0</td>\n",
       "      <td>35</td>\n",
       "      <td>20</td>\n",
       "      <td>0</td>\n",
       "      <td>0</td>\n",
       "      <td>...</td>\n",
       "      <td>0.0</td>\n",
       "      <td>9.468001</td>\n",
       "      <td>52.271923</td>\n",
       "      <td>427.883912</td>\n",
       "      <td>12.225255</td>\n",
       "      <td>826</td>\n",
       "      <td>27</td>\n",
       "      <td>86.0</td>\n",
       "      <td>94.0</td>\n",
       "      <td>5.125000</td>\n",
       "    </tr>\n",
       "    <tr>\n",
       "      <th>2</th>\n",
       "      <td>17.836588</td>\n",
       "      <td>14.286218</td>\n",
       "      <td>0</td>\n",
       "      <td>0</td>\n",
       "      <td>18</td>\n",
       "      <td>18</td>\n",
       "      <td>38</td>\n",
       "      <td>23</td>\n",
       "      <td>0</td>\n",
       "      <td>0</td>\n",
       "      <td>...</td>\n",
       "      <td>0.0</td>\n",
       "      <td>9.843260</td>\n",
       "      <td>56.915029</td>\n",
       "      <td>326.070796</td>\n",
       "      <td>8.580810</td>\n",
       "      <td>1204</td>\n",
       "      <td>30</td>\n",
       "      <td>116.0</td>\n",
       "      <td>130.0</td>\n",
       "      <td>5.125000</td>\n",
       "    </tr>\n",
       "    <tr>\n",
       "      <th>3</th>\n",
       "      <td>17.068022</td>\n",
       "      <td>14.098377</td>\n",
       "      <td>0</td>\n",
       "      <td>0</td>\n",
       "      <td>12</td>\n",
       "      <td>12</td>\n",
       "      <td>43</td>\n",
       "      <td>23</td>\n",
       "      <td>0</td>\n",
       "      <td>0</td>\n",
       "      <td>...</td>\n",
       "      <td>0.0</td>\n",
       "      <td>9.701310</td>\n",
       "      <td>56.405739</td>\n",
       "      <td>312.136159</td>\n",
       "      <td>7.258980</td>\n",
       "      <td>1340</td>\n",
       "      <td>31</td>\n",
       "      <td>108.0</td>\n",
       "      <td>121.0</td>\n",
       "      <td>5.416667</td>\n",
       "    </tr>\n",
       "    <tr>\n",
       "      <th>4</th>\n",
       "      <td>7.956514</td>\n",
       "      <td>7.521784</td>\n",
       "      <td>0</td>\n",
       "      <td>0</td>\n",
       "      <td>6</td>\n",
       "      <td>6</td>\n",
       "      <td>19</td>\n",
       "      <td>11</td>\n",
       "      <td>0</td>\n",
       "      <td>0</td>\n",
       "      <td>...</td>\n",
       "      <td>0.0</td>\n",
       "      <td>8.906935</td>\n",
       "      <td>40.567492</td>\n",
       "      <td>152.047344</td>\n",
       "      <td>8.002492</td>\n",
       "      <td>160</td>\n",
       "      <td>13</td>\n",
       "      <td>50.0</td>\n",
       "      <td>55.0</td>\n",
       "      <td>2.611111</td>\n",
       "    </tr>\n",
       "  </tbody>\n",
       "</table>\n",
       "<p>5 rows × 1067 columns</p>\n",
       "</div>"
      ],
      "text/plain": [
       "         ABC      ABCGG  nAcid  nBase  nAromAtom  nAromBond  nAtom  \\\n",
       "0  16.245546  14.372897      0      0         12         12     33   \n",
       "1  13.593947  13.914364      0      0          0          0     35   \n",
       "2  17.836588  14.286218      0      0         18         18     38   \n",
       "3  17.068022  14.098377      0      0         12         12     43   \n",
       "4   7.956514   7.521784      0      0          6          6     19   \n",
       "\n",
       "   nHeavyAtom  nSpiro  nBridgehead  ...  SRW09      SRW10     TSRW10  \\\n",
       "0          21       0            0  ...    0.0  10.170648  55.418626   \n",
       "1          20       0            0  ...    0.0   9.468001  52.271923   \n",
       "2          23       0            0  ...    0.0   9.843260  56.915029   \n",
       "3          23       0            0  ...    0.0   9.701310  56.405739   \n",
       "4          11       0            0  ...    0.0   8.906935  40.567492   \n",
       "\n",
       "           MW        AMW  WPath  WPol  Zagreb1  Zagreb2  mZagreb2  \n",
       "0  539.757078  16.356275    876    38    112.0    134.0  4.444444  \n",
       "1  427.883912  12.225255    826    27     86.0     94.0  5.125000  \n",
       "2  326.070796   8.580810   1204    30    116.0    130.0  5.125000  \n",
       "3  312.136159   7.258980   1340    31    108.0    121.0  5.416667  \n",
       "4  152.047344   8.002492    160    13     50.0     55.0  2.611111  \n",
       "\n",
       "[5 rows x 1067 columns]"
      ]
     },
     "execution_count": 145,
     "metadata": {},
     "output_type": "execute_result"
    }
   ],
   "source": [
    "#retain molecular descriptors only contain numeric value for all molecues\n",
    "print(mddf.shape)\n",
    "mds2 = mddf.select_dtypes([\"number\"])\n",
    "mds2.shape\n",
    "# mds2['EC50'] = mydat['EC50']\n",
    "mds2.head()"
   ]
  },
  {
   "cell_type": "code",
   "execution_count": 164,
   "metadata": {},
   "outputs": [],
   "source": [
    "#remove any constant in the dataframe\n",
    "#checking unique values\n",
    "unique = mds2.nunique().reset_index()\n",
    "unique.columns = [\"colname\", \"unique_count\"]\n",
    "unique.head(10)\n",
    "#columns with constant value\n",
    "constant= unique[unique[\"unique_count\"]==1]\n",
    "constant.shape\n",
    "#dropping columns with constant value\n",
    "mds2.drop(columns= constant['colname'],inplace=True)"
   ]
  },
  {
   "cell_type": "code",
   "execution_count": 165,
   "metadata": {},
   "outputs": [],
   "source": [
    "mds2['EC50'] = mydat['EC50']"
   ]
  },
  {
   "cell_type": "code",
   "execution_count": 153,
   "metadata": {},
   "outputs": [
    {
     "name": "stdout",
     "output_type": "stream",
     "text": [
      "          ABC      ABCGG  nAcid  nBase  nAromAtom  nAromBond  nAtom  \\\n",
      "0   16.245546  14.372897      0      0         12         12     33   \n",
      "1   13.593947  13.914364      0      0          0          0     35   \n",
      "2   17.836588  14.286218      0      0         18         18     38   \n",
      "3   17.068022  14.098377      0      0         12         12     43   \n",
      "4    7.956514   7.521784      0      0          6          6     19   \n",
      "5   10.077834   9.037764      0      0          6          6     28   \n",
      "6   11.423098   9.416954      0      0          6          6     40   \n",
      "7    6.542301   6.236096      1      1          6          6     15   \n",
      "8   17.530641  18.353312      1      0          0          0     24   \n",
      "9   19.875064  20.681824      1      0          0          0     27   \n",
      "10  22.219488  22.990790      1      0          0          0     30   \n",
      "11  23.631953  24.418572      1      0          0          0     32   \n",
      "12  25.976376  26.700944      1      0          0          0     35   \n",
      "13  13.141320  11.243837      0      0         12         12     33   \n",
      "14  20.407006  16.030826      0      0         18         18     52   \n",
      "15  17.163432  14.135656      0      0         18         18     40   \n",
      "16  21.185545  17.023687      0      0         24         24     47   \n",
      "17  12.268104  10.321825      0      0         12         12     30   \n",
      "18  19.993608  14.764110      0      0         12         12     49   \n",
      "19  17.659759  15.369852      0      0         12         12     51   \n",
      "20  13.751268  11.802809      0      0         12         12     28   \n",
      "21  13.689508  11.913631      0      0         12         12     36   \n",
      "22  20.407006  16.456672      0      0         18         18     52   \n",
      "23  11.532488   9.413560      0      0         12         12     27   \n",
      "24  17.830166  16.041298      0      0         12         12     33   \n",
      "25  18.200457  14.983849      0      0         12         12     49   \n",
      "26  15.651910  12.764648      0      0         12         12     40   \n",
      "27  14.693433  12.781607      0      0         12         12     39   \n",
      "28  22.879054  17.687540      0      0         24         24     53   \n",
      "29  27.741792  21.639859      1      0          0          0     80   \n",
      "30  26.986905  20.717786      1      0          0          0     79   \n",
      "31  25.314715  19.667992      1      0          0          0     75   \n",
      "32  23.131785  18.712755      1      0          0          0     69   \n",
      "33  25.293545  19.736337      1      0          0          0     75   \n",
      "34  26.965735  20.789693      1      0          0          0     79   \n",
      "35  22.376898  17.800760      1      0          0          0     68   \n",
      "36  22.355728  17.858177      1      0          0          0     68   \n",
      "37  26.210848  19.868849      1      0          0          0     78   \n",
      "38  26.069602  20.588285      1      0          0          0     76   \n",
      "39  21.600841  16.946825      1      0          0          0     67   \n",
      "\n",
      "    nHeavyAtom  nHetero  nH  ...      SRW10     TSRW10          MW        AMW  \\\n",
      "0           21        6  12  ...  10.170648  55.418626  539.757078  16.356275   \n",
      "1           20       11  15  ...   9.468001  52.271923  427.883912  12.225255   \n",
      "2           23        5  15  ...   9.843260  56.915029  326.070796   8.580810   \n",
      "3           23        4  20  ...   9.701310  56.405739  312.136159   7.258980   \n",
      "4           11        3   8  ...   8.906935  40.567492  152.047344   8.002492   \n",
      "5           14        3  14  ...   9.016634  44.411164  194.094294   6.931939   \n",
      "6           16        1  24  ...   8.887791  46.439984  220.182715   5.504568   \n",
      "7           10        3   5  ...   8.590258  38.289972  144.018724   9.601248   \n",
      "8           23       17   1  ...  10.755880  58.929131  399.943882  16.664328   \n",
      "9           26       19   1  ...  10.908174  62.622736  449.940688  16.664470   \n",
      "10          29       21   1  ...  11.040310  66.231424  499.937495  16.664583   \n",
      "11          31       21   1  ...  11.095605  68.520605  513.967315  16.061479   \n",
      "12          34       23   1  ...  11.206360  72.034115  563.964122  16.113261   \n",
      "13          17        2  16  ...   9.795735  49.972725  228.115030   6.912577   \n",
      "14          26        2  26  ...  10.347436  61.450102  346.193280   6.657563   \n",
      "15          22        2  18  ...  10.142071  56.463043  290.130680   7.253267   \n",
      "16          27        2  20  ...  10.415742  62.630361  352.146330   7.492475   \n",
      "17          16        2  14  ...   9.508591  48.143524  214.099380   7.136646   \n",
      "18          25        4  24  ...  10.174163  80.878678  340.167459   6.942193   \n",
      "19          23        2  28  ...  10.180703  57.648229  312.208930   6.121744   \n",
      "20          18        4  10  ...   9.675269  50.806847  280.005785  10.000207   \n",
      "21          18        2  18  ...   9.869879  51.247742  242.130680   6.725852   \n",
      "22          26        2  26  ...  10.351916  61.455982  346.193280   6.657563   \n",
      "23          15        2  12  ...   9.314070  46.537386  200.083730   7.410509   \n",
      "24          23        8  10  ...  10.471893  58.262720  336.058499  10.183591   \n",
      "25          23        2  26  ...  10.313310  58.028285  310.193280   6.330475   \n",
      "26          20        2  20  ...  10.058138  54.025541  268.146330   6.703658   \n",
      "27          19        2  20  ...   9.994288  52.741809  256.146330   6.567855   \n",
      "28          29        2  24  ...  10.409250  64.894688  380.177630   7.173163   \n",
      "29          35        9  45  ...  10.859710  86.732790  515.291674   6.441146   \n",
      "30          34        8  45  ...  10.795998  85.504810  499.296759   6.320212   \n",
      "31          32        6  43  ...  10.746153  83.204033  449.314123   5.990855   \n",
      "32          29        5  40  ...  10.773839  80.057253  408.287574   5.917211   \n",
      "33          32        6  43  ...  10.762170  83.249651  449.314123   5.990855   \n",
      "34          34        8  45  ...  10.811242  85.548784  499.296759   6.320212   \n",
      "35          28        4  40  ...  10.704210  78.800055  392.292660   5.769010   \n",
      "36          28        4  40  ...  10.720908  78.847322  392.292660   5.769010   \n",
      "37          33        7  45  ...  10.744257  84.312076  483.301845   6.196177   \n",
      "38          33        7  43  ...  10.813015  84.444664  465.309038   6.122487   \n",
      "39          27        3  40  ...  10.647352  77.578906  376.297745   5.616384   \n",
      "\n",
      "        WPath  WPol  Zagreb1  Zagreb2  mZagreb2  EC50  \n",
      "0         876    38    112.0    134.0  4.444444  0.65  \n",
      "1         826    27     86.0     94.0  5.125000  2.81  \n",
      "2        1204    30    116.0    130.0  5.125000  2.66  \n",
      "3        1340    31    108.0    121.0  5.416667  0.61  \n",
      "4         160    13     50.0     55.0  2.611111  2.34  \n",
      "5         350    16     62.0     67.0  3.361111  2.07  \n",
      "6         594    16     68.0     71.0  3.916667  1.60  \n",
      "7   900000088     9     40.0     43.0  2.111111  3.37  \n",
      "8         988    54    128.0    160.0  4.375000  2.68  \n",
      "9        1381    63    146.0    184.0  4.937500  2.50  \n",
      "10       1864    72    164.0    208.0  5.500000  2.11  \n",
      "11       2250    78    174.0    222.0  6.000000  2.73  \n",
      "12       2904    87    192.0    246.0  6.562500  2.09  \n",
      "13        516    26     88.0    102.0  3.666667  0.36  \n",
      "14       1771    45    140.0    166.0  5.500000  0.66  \n",
      "15        972    37    116.0    138.0  4.833333  0.55  \n",
      "16       1568    48    144.0    174.0  6.000000  1.07  \n",
      "17        459    22     80.0     91.0  3.555556  0.96  \n",
      "18       1766    36    136.0    160.0  5.333333  1.19  \n",
      "19       1156    40    120.0    142.0  4.944444  1.25  \n",
      "20        603    26     90.0    103.0  4.000000  0.97  \n",
      "21        590    29     92.0    108.0  4.041667  1.15  \n",
      "22       1671    45    140.0    166.0  5.500000  1.07  \n",
      "23        404    18     74.0     82.0  3.333333  1.24  \n",
      "24       1008    44    124.0    150.0  4.791667  1.09  \n",
      "25       1058    39    126.0    149.0  4.833333  1.10  \n",
      "26        757    33    106.0    126.0  4.416667  1.16  \n",
      "27        684    32    100.0    118.0  4.055556  1.42  \n",
      "28       2232    50    156.0    186.0  6.277778  1.38  \n",
      "29       3903    67    196.0    239.0  7.277778  2.72  \n",
      "30       3702    63    190.0    230.0  7.069444  1.87  \n",
      "31       3011    61    178.0    218.0  6.777778  2.65  \n",
      "32       2045    60    166.0    208.0  6.069444  3.37  \n",
      "33       2994    62    178.0    219.0  6.791667  2.44  \n",
      "34       3681    64    190.0    231.0  7.083333  2.27  \n",
      "35       1910    56    160.0    199.0  5.861111  2.08  \n",
      "36       1901    57    160.0    200.0  5.875000  2.11  \n",
      "37       3486    60    184.0    222.0  6.875000  2.32  \n",
      "38       3187    65    184.0    227.0  6.986111  3.20  \n",
      "39       1772    53    154.0    191.0  5.666667  2.26  \n",
      "\n",
      "[40 rows x 810 columns]\n"
     ]
    }
   ],
   "source": [
    "print(mds2)"
   ]
  },
  {
   "cell_type": "code",
   "execution_count": 166,
   "metadata": {},
   "outputs": [],
   "source": [
    "correlation = mds2[mds2.columns[:]].corr()['EC50'][:]"
   ]
  },
  {
   "cell_type": "code",
   "execution_count": 167,
   "metadata": {},
   "outputs": [],
   "source": [
    "correlation = correlation.sort_values(ascending=False)"
   ]
  },
  {
   "cell_type": "code",
   "execution_count": 168,
   "metadata": {},
   "outputs": [
    {
     "name": "stdout",
     "output_type": "stream",
     "text": [
      "thetop30posfactors: \n",
      " nAcid           0.738992\n",
      "NdO             0.629880\n",
      "FCSP3           0.627944\n",
      "HybRatio        0.627944\n",
      "SlogP_VSA2      0.614462\n",
      "SdO             0.614028\n",
      "nBondsD         0.611592\n",
      "PEOE_VSA2       0.605330\n",
      "C2SP3           0.598921\n",
      "ATSC6i          0.591307\n",
      "nO              0.564629\n",
      "MATS6i          0.561888\n",
      "ATSC0se         0.556884\n",
      "GATS1d          0.540618\n",
      "TopoPSA         0.540471\n",
      "FilterItLogS    0.525235\n",
      "NsssCH          0.524042\n",
      "ATSC6p          0.519317\n",
      "TopoPSA(NO)     0.519060\n",
      "ATSC0pe         0.507884\n",
      "nG12FRing       0.503410\n",
      "nG12FARing      0.503410\n",
      "nFARing         0.503410\n",
      "nFRing          0.503410\n",
      "n5ARing         0.503410\n",
      "n5Ring          0.503410\n",
      "GGI4            0.501584\n",
      "VSA_EState2     0.494237\n",
      "SMR_VSA4        0.494161\n",
      "Name: EC50, dtype: float64\n",
      "thetop30negfactors: \n",
      " PEOE_VSA6     -0.580347\n",
      "piPC8         -0.586180\n",
      "AATS5p        -0.589575\n",
      "JGI9          -0.594303\n",
      "PEOE_VSA10    -0.596081\n",
      "GATS6p        -0.596555\n",
      "piPC7         -0.598114\n",
      "SMR_VSA9      -0.609581\n",
      "TpiPC10       -0.613665\n",
      "EState_VSA7   -0.619424\n",
      "piPC6         -0.627358\n",
      "piPC4         -0.636604\n",
      "VSA_EState6   -0.642310\n",
      "SaaCH         -0.642310\n",
      "NaaCH         -0.654259\n",
      "SaasC         -0.666324\n",
      "SlogP_VSA6    -0.675252\n",
      "piPC5         -0.675403\n",
      "nBondsKD      -0.677939\n",
      "C2SP2         -0.697440\n",
      "nBondsM       -0.708895\n",
      "SlogP_VSA11   -0.711649\n",
      "SMR_VSA7      -0.723882\n",
      "n6aRing       -0.726227\n",
      "naRing        -0.726227\n",
      "nBondsA       -0.726227\n",
      "nAromBond     -0.726227\n",
      "nAromAtom     -0.726227\n",
      "C3SP2         -0.738316\n",
      "NaasC         -0.788807\n",
      "Name: EC50, dtype: float64\n"
     ]
    }
   ],
   "source": [
    "print('thetop30posfactors: \\n', correlation[1:30])\n",
    "print('thetop30negfactors: \\n', correlation[-30:])"
   ]
  },
  {
   "cell_type": "code",
   "execution_count": 171,
   "metadata": {},
   "outputs": [
    {
     "name": "stdout",
     "output_type": "stream",
     "text": [
      "(40, 811)\n",
      "         ABC      ABCGG  nAcid  nBase  nAromAtom  nAromBond  nAtom  \\\n",
      "0  16.245546  14.372897      0      0         12         12     33   \n",
      "1  13.593947  13.914364      0      0          0          0     35   \n",
      "2  17.836588  14.286218      0      0         18         18     38   \n",
      "3  17.068022  14.098377      0      0         12         12     43   \n",
      "4   7.956514   7.521784      0      0          6          6     19   \n",
      "\n",
      "   nHeavyAtom  nHetero  nH  ...     TSRW10          MW        AMW  WPath  \\\n",
      "0          21        6  12  ...  55.418626  539.757078  16.356275    876   \n",
      "1          20       11  15  ...  52.271923  427.883912  12.225255    826   \n",
      "2          23        5  15  ...  56.915029  326.070796   8.580810   1204   \n",
      "3          23        4  20  ...  56.405739  312.136159   7.258980   1340   \n",
      "4          11        3   8  ...  40.567492  152.047344   8.002492    160   \n",
      "\n",
      "   WPol  Zagreb1  Zagreb2  mZagreb2  EC50  compound  \n",
      "0    38    112.0    134.0  4.444444  0.65     TBBPA  \n",
      "1    27     86.0     94.0  5.125000  2.81     TDCPP  \n",
      "2    30    116.0    130.0  5.125000  2.66       TPP  \n",
      "3    31    108.0    121.0  5.416667  0.61       BBP  \n",
      "4    13     50.0     55.0  2.611111  2.34        MP  \n",
      "\n",
      "[5 rows x 811 columns]\n",
      "(40, 811)\n"
     ]
    }
   ],
   "source": [
    "#export the result in train data and test data #mds dimension (42,191)\n",
    "mds2[\"compound\"] = mydat[\"ID\"]\n",
    "mds2['EC50'] = mydat['EC50']\n",
    "print(mds2.shape)\n",
    "#delete the row with log <-1\n",
    "# dropcol = mds[mds['IE']<-1].index\n",
    "# mds.drop(dropcol, inplace=True)\n",
    "\n",
    "# mds.set_index('compound', inplace=True)\n",
    "print(mds2.head())\n",
    "print(mds2.shape)"
   ]
  },
  {
   "cell_type": "code",
   "execution_count": 172,
   "metadata": {},
   "outputs": [],
   "source": [
    "from sklearn.model_selection import train_test_split\n",
    "Y = mds2['EC50']\n",
    "# Y = np.log(Y)\n",
    "X = mds2.drop('EC50', axis=1)\n",
    "X_train, X_test, Y_train, Y_test = train_test_split(X,Y, test_size=0.2, random_state=42)"
   ]
  },
  {
   "cell_type": "code",
   "execution_count": 173,
   "metadata": {},
   "outputs": [
    {
     "name": "stdout",
     "output_type": "stream",
     "text": [
      "                ABC      ABCGG  nAcid  nBase  nAromAtom  nAromBond  nAtom  \\\n",
      "compound                                                                    \n",
      "LCA       21.600841  16.946825      1      0          0          0     67   \n",
      "4-NP      11.423098   9.416954      0      0          6          6     40   \n",
      "BP-TMC    18.200457  14.983849      0      0         12         12     49   \n",
      "PFHpS     19.875064  20.681824      1      0          0          0     27   \n",
      "BPA       13.141320  11.243837      0      0         12         12     33   \n",
      "\n",
      "          nHeavyAtom  nHetero  nH  ...     SRW09      SRW10     TSRW10  \\\n",
      "compound                           ...                                   \n",
      "LCA               27        3  40  ...  7.065613  10.647352  77.578906   \n",
      "4-NP              16        1  24  ...  0.000000   8.887791  46.439984   \n",
      "BP-TMC            23        2  26  ...  0.000000  10.313310  58.028285   \n",
      "PFHpS             26       19   1  ...  0.000000  10.908174  62.622736   \n",
      "BPA               17        2  16  ...  0.000000   9.795735  49.972725   \n",
      "\n",
      "                  MW        AMW  WPath  WPol  Zagreb1  Zagreb2  mZagreb2  \n",
      "compound                                                                  \n",
      "LCA       376.297745   5.616384   1772    53    154.0    191.0  5.666667  \n",
      "4-NP      220.182715   5.504568    594    16     68.0     71.0  3.916667  \n",
      "BP-TMC    310.193280   6.330475   1058    39    126.0    149.0  4.833333  \n",
      "PFHpS     449.940688  16.664470   1381    63    146.0    184.0  4.937500  \n",
      "BPA       228.115030   6.912577    516    26     88.0    102.0  3.666667  \n",
      "\n",
      "[5 rows x 809 columns]\n",
      "39    2.26\n",
      "6     1.60\n",
      "25    1.10\n",
      "9     2.50\n",
      "13    0.36\n",
      "Name: EC50, dtype: float64\n"
     ]
    }
   ],
   "source": [
    "evaluationdat = pd.DataFrame()\n",
    "evaluationdat['name'] = X_test['compound']\n",
    "evaluationdat['EC50'] = Y_test\n",
    "testID = X_test['compound']\n",
    "X_train.set_index('compound', inplace=True)\n",
    "X_test.set_index('compound', inplace=True)\n",
    "print(X_train.head())\n",
    "print(Y_train.head())"
   ]
  },
  {
   "cell_type": "code",
   "execution_count": null,
   "metadata": {},
   "outputs": [],
   "source": [
    "# print(X_train.head())\n",
    "# print(Y_train.head())\n",
    "# X_train.to_csv('X_train_wmj.csv')"
   ]
  },
  {
   "cell_type": "code",
   "execution_count": 62,
   "metadata": {},
   "outputs": [
    {
     "data": {
      "image/png": "[encoded data removed]",
      "text/plain": [
       "<Figure size 432x288 with 1 Axes>"
      ]
     },
     "metadata": {
      "needs_background": "light"
     },
     "output_type": "display_data"
    },
    {
     "data": {
      "image/png": "[encoded data removed]",
      "text/plain": [
       "<Figure size 432x288 with 1 Axes>"
      ]
     },
     "metadata": {
      "needs_background": "light"
     },
     "output_type": "display_data"
    }
   ],
   "source": [
    "#check the normaality of the dataset\n",
    "from scipy.stats import norm\n",
    "import seaborn as sns\n",
    "from scipy import stats\n",
    "sns.distplot(Y_train, fit = norm);\n",
    "fig=plt.figure()\n",
    "res = stats.probplot(Y_train, plot = plt)"
   ]
  },
  {
   "cell_type": "code",
   "execution_count": 63,
   "metadata": {},
   "outputs": [
    {
     "data": {
      "text/plain": [
       "RandomForestRegressor(n_jobs=-1, random_state=42)"
      ]
     },
     "execution_count": 63,
     "metadata": {},
     "output_type": "execute_result"
    }
   ],
   "source": [
    "#random forest feature engineering\n",
    "RF = RandomForestRegressor(random_state=42, n_jobs=-1)\n",
    "RF.fit(X_train,Y_train)"
   ]
  },
  {
   "cell_type": "code",
   "execution_count": 64,
   "metadata": {},
   "outputs": [
    {
     "name": "stdout",
     "output_type": "stream",
     "text": [
      "random forest parameters currently in use:\n",
      "\n",
      "{'bootstrap': True,\n",
      " 'ccp_alpha': 0.0,\n",
      " 'criterion': 'mse',\n",
      " 'max_depth': None,\n",
      " 'max_features': 'auto',\n",
      " 'max_leaf_nodes': None,\n",
      " 'max_samples': None,\n",
      " 'min_impurity_decrease': 0.0,\n",
      " 'min_impurity_split': None,\n",
      " 'min_samples_leaf': 1,\n",
      " 'min_samples_split': 2,\n",
      " 'min_weight_fraction_leaf': 0.0,\n",
      " 'n_estimators': 100,\n",
      " 'n_jobs': -1,\n",
      " 'oob_score': False,\n",
      " 'random_state': 42,\n",
      " 'verbose': 0,\n",
      " 'warm_start': False}\n",
      "valid accuracy\n",
      "model performance\n",
      "average error:0.2813degrees.\n",
      "accuracy: 75.11 %.\n",
      "[1.0075 1.1578 1.0648 1.1601 2.584  2.5041 2.1379 0.8551]\n",
      "19    1.25\n",
      "16    1.07\n",
      "15    0.55\n",
      "26    1.16\n",
      "4     2.34\n",
      "12    2.09\n",
      "37    2.32\n",
      "27    1.42\n",
      "Name: EC50, dtype: float64\n",
      "0.33816071807647896\n",
      "0.11435267124999987\n"
     ]
    }
   ],
   "source": [
    "#random forest feature engineering\n",
    "RF = RandomForestRegressor(random_state=42, n_jobs=-1)\n",
    "RF.fit(X_train,Y_train)\n",
    "\n",
    "from pprint import pprint\n",
    "print('random forest parameters currently in use:\\n')\n",
    "pprint(RF.get_params())\n",
    "\n",
    "def rmse(actual, pred):\n",
    "    return np.sqrt(np.mean((actual-pred)**2))\n",
    "\n",
    "def mse(actual, pred):\n",
    "    return np.mean((actual-pred)**2)\n",
    "\n",
    "def r2_score(actual, pred):\n",
    "    return 1-rmse(actual, pred)/ rmse(actual, np.mean(actual))\n",
    "\n",
    "def evaluate(model, features, labels):\n",
    "    predictions = model.predict(features)\n",
    "    errors = abs(predictions-labels)\n",
    "    m = 100*(errors/labels)\n",
    "    accuracy = 100-np.mean(m)\n",
    "    print('model performance')\n",
    "    print('average error:{:0.4f}degrees.'.format(np.mean(errors)))\n",
    "    print('accuracy:',round(accuracy,2),'%.')\n",
    "    \n",
    "    return accuracy\n",
    "\n",
    "# Y_testnp = np.array(Y_test)\n",
    "# X_testnp = np.array(X_test)\n",
    "print('valid accuracy')\n",
    "valid_accuracy = evaluate(RF, X_test, Y_test)\n",
    "\n",
    "#prediction on random forest\n",
    "RF_target = RF.predict(X_test)\n",
    "print(RF_target)\n",
    "print(Y_test)\n",
    "print(rmse(RF_target, Y_test))\n",
    "print(mse(RF_target, Y_test))"
   ]
  },
  {
   "cell_type": "code",
   "execution_count": 66,
   "metadata": {},
   "outputs": [],
   "source": [
    "feature_names = X_train.columns\n",
    "importances=RF.feature_importances_\n",
    "featuredata =  pd.DataFrame(importances,feature_names)\n",
    "featuredata.columns = ['importance']\n",
    "featuredata = featuredata.sort_values(by=['importance'], ascending = False)\n",
    "top30 = featuredata[:30]\n",
    "# top30.head()\n",
    "# top30.to_csv('IE_DEC26top30_normalreform.csv')"
   ]
  },
  {
   "cell_type": "code",
   "execution_count": 67,
   "metadata": {},
   "outputs": [
    {
     "data": {
      "image/png": "[encoded data removed]",
      "text/plain": [
       "<Figure size 432x288 with 1 Axes>"
      ]
     },
     "metadata": {
      "needs_background": "light"
     },
     "output_type": "display_data"
    }
   ],
   "source": [
    "#barplots of all the important features\n",
    "output_path = 'D:/jupyter_workspace/IE-ANN/resultfigure'\n",
    "from matplotlib import pyplot as plt\n",
    "top30['importance'].plot(kind='bar', title='test')\n",
    "plt.title('IE_DEC26 top30 features')\n",
    "plt.xlabel('feature')\n",
    "plt.ylabel('importance 0-1')\n",
    "outputfig = \"IE_DEC26 top30 features_normalreform.jpg\"\n",
    "plt.savefig(os.path.join(output_path,outputfig), dpi=300, \n",
    "            quality = 80, optimize = True, progressive = True)"
   ]
  },
  {
   "cell_type": "markdown",
   "metadata": {},
   "source": [
    "# use features with importances > 0.05 to make linear regression"
   ]
  },
  {
   "cell_type": "code",
   "execution_count": 175,
   "metadata": {},
   "outputs": [
    {
     "name": "stdout",
     "output_type": "stream",
     "text": [
      "<class 'mordred._base.pandas_module.MordredDataFrame'>\n"
     ]
    }
   ],
   "source": [
    "print(type(X_train))\n",
    "X_train2 = X_train[['nAcid','NdO','FCSP3','HybRatio','SlogP_VSA2',\n",
    " 'SdO','nBondsD','PEOE_VSA2','C2SP3','NaasC','C3SP2','nAromAtom',\n",
    " 'nAromBond','nBondsA','naRing','n6aRing','SMR_VSA7','SlogP_VSA11','nBondsM']]\n",
    "X_test2 = X_test[['nAcid','NdO','FCSP3','HybRatio','SlogP_VSA2',\n",
    " 'SdO','nBondsD','PEOE_VSA2','C2SP3','NaasC','C3SP2','nAromAtom',\n",
    " 'nAromBond','nBondsA','naRing','n6aRing','SMR_VSA7','SlogP_VSA11','nBondsM']]"
   ]
  },
  {
   "cell_type": "code",
   "execution_count": 176,
   "metadata": {},
   "outputs": [
    {
     "name": "stdout",
     "output_type": "stream",
     "text": [
      "2.7017334185611728\n",
      "[-0.09778344  2.83221111 -0.90665311 -0.90665311  0.01735861 -0.35698386\n",
      "  0.28028551  0.12895968  0.07452534 -0.18888347 -0.90418423  0.07151653\n",
      "  0.07151653  0.07151653  0.01191942  0.01191942 -0.04841668 -0.24445726\n",
      "  0.35180204]\n"
     ]
    }
   ],
   "source": [
    "from sklearn import linear_model\n",
    "regr = linear_model.LinearRegression()\n",
    "regr.fit(X_train2,Y_train)\n",
    "print(regr.intercept_)\n",
    "print(regr.coef_)"
   ]
  },
  {
   "cell_type": "code",
   "execution_count": 181,
   "metadata": {},
   "outputs": [
    {
     "name": "stdout",
     "output_type": "stream",
     "text": [
      "r2:\n",
      " -1.537679160780534\n"
     ]
    }
   ],
   "source": [
    "y = Y_test\n",
    "regrtarget = regr.predict(X_test2)\n",
    "print('r2:\\n',r2_score(y,regrtarget))"
   ]
  },
  {
   "cell_type": "code",
   "execution_count": 178,
   "metadata": {},
   "outputs": [
    {
     "data": {
      "text/plain": [
       "Text(1, 2, 'r-squred = -1.537679')"
      ]
     },
     "execution_count": 178,
     "metadata": {},
     "output_type": "execute_result"
    },
    {
     "data": {
      "image/png": "[encoded data removed]",
      "text/plain": [
       "<Figure size 432x288 with 1 Axes>"
      ]
     },
     "metadata": {
      "needs_background": "light"
     },
     "output_type": "display_data"
    }
   ],
   "source": [
    "import os\n",
    "output_path = os.path.abspath('D:/jupyter_workspace/wmj')\n",
    "#random forest plots\n",
    "fig,ax2 = plt.subplots()\n",
    "ax2.scatter(regrtarget,y)\n",
    "ax2.set_title('linear vs actual')\n",
    "ax2.set_xlabel('predicted')\n",
    "ax2.set_ylabel('experiment')\n",
    "ax2.annotate('r-squred = {:3f}'.format(r2_score(y,regrtarget)),(1,2))"
   ]
  },
  {
   "cell_type": "code",
   "execution_count": null,
   "metadata": {},
   "outputs": [],
   "source": [
    "#notes: try to use the highcorrelated factors defined by corr() to make a linear regression, turns to worse results than the result from \n",
    "#rf ranked factors and rf model or linear models"
   ]
  },
  {
   "cell_type": "code",
   "execution_count": 179,
   "metadata": {},
   "outputs": [
    {
     "name": "stdout",
     "output_type": "stream",
     "text": [
      "19    1.25\n",
      "16    1.07\n",
      "15    0.55\n",
      "26    1.16\n",
      "4     2.34\n",
      "12    2.09\n",
      "37    2.32\n",
      "27    1.42\n",
      "Name: EC50, dtype: float64\n"
     ]
    }
   ],
   "source": [
    "y = Y_test\n",
    "print(y)"
   ]
  },
  {
   "cell_type": "code",
   "execution_count": 74,
   "metadata": {},
   "outputs": [
    {
     "data": {
      "text/plain": [
       "Text(1, 2, 'r-squred = 0.447140')"
      ]
     },
     "execution_count": 74,
     "metadata": {},
     "output_type": "execute_result"
    },
    {
     "data": {
      "image/png": "[encoded data removed]",
      "text/plain": [
       "<Figure size 432x288 with 1 Axes>"
      ]
     },
     "metadata": {
      "needs_background": "light"
     },
     "output_type": "display_data"
    }
   ],
   "source": [
    "import os\n",
    "output_path = os.path.abspath('D:/jupyter_workspace/wmj')\n",
    "#random forest plots\n",
    "fig,ax2 = plt.subplots()\n",
    "ax2.scatter(RF_target,y)\n",
    "ax2.set_title('rf vs actual')\n",
    "ax2.set_xlabel('predicted')\n",
    "ax2.set_ylabel('experiment')\n",
    "ax2.annotate('r-squred = {:3f}'.format(r2_score(y,RF_target)),(1,2))\n",
    "#ax2.annotate('r-squred = {:3f}'.format(0.68),(1.5,-2))\n",
    "#ax2.annotate('mse = {:2f}'.format(mse(y, RF_target)),(0,1.7))\n",
    "#ax2.annotate('rmse= 0.66', )\n",
    "# outputfig = \"simplerf_wmj.jpg\"\n",
    "# plt.savefig(os.path.join(output_path,outputfig), dpi=300, quality = 80, optimize = True, progressive = True)\n"
   ]
  }
 ],
 "metadata": {
  "kernelspec": {
   "display_name": "Python 3",
   "language": "python",
   "name": "python3"
  },
  "language_info": {
   "codemirror_mode": {
    "name": "ipython",
    "version": 3
   },
   "file_extension": ".py",
   "mimetype": "text/x-python",
   "name": "python",
   "nbconvert_exporter": "python",
   "pygments_lexer": "ipython3",
   "version": "3.7.1"
  }
 },
 "nbformat": 4,
 "nbformat_minor": 4
}
