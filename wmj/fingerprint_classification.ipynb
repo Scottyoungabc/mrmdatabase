{
 "cells": [
  {
   "cell_type": "code",
   "execution_count": 4,
   "metadata": {
    "scrolled": true
   },
   "outputs": [],
   "source": [
    "#loading packages\n",
    "import pandas as pd\n",
    "import numpy as np\n",
    "import csv\n",
    "import os\n",
    "import matplotlib.pyplot as plt\n",
    "from sklearn.model_selection import train_test_split\n",
    "from sklearn.preprocessing import StandardScaler, MinMaxScaler\n",
    "from sklearn.model_selection import cross_validate\n",
    "%matplotlib inline\n",
    "\n",
    "from pprint import pprint\n",
    "from rdkit import Chem\n",
    "from mordred import Calculator, descriptors\n",
    "from rdkit.Chem import AllChem\n",
    "from rdkit.Chem.EState import Fingerprinter\n",
    "from rdkit.Chem import Descriptors\n",
    "from rdkit.Chem.rdmolops import RDKFingerprint"
   ]
  },
  {
   "cell_type": "code",
   "execution_count": 174,
   "metadata": {
    "scrolled": true
   },
   "outputs": [
    {
     "data": {
      "text/html": [
       "<div>\n",
       "<style scoped>\n",
       "    .dataframe tbody tr th:only-of-type {\n",
       "        vertical-align: middle;\n",
       "    }\n",
       "\n",
       "    .dataframe tbody tr th {\n",
       "        vertical-align: top;\n",
       "    }\n",
       "\n",
       "    .dataframe thead th {\n",
       "        text-align: right;\n",
       "    }\n",
       "</style>\n",
       "<table border=\"1\" class=\"dataframe\">\n",
       "  <thead>\n",
       "    <tr style=\"text-align: right;\">\n",
       "      <th></th>\n",
       "      <th>no</th>\n",
       "      <th>name</th>\n",
       "      <th>ID</th>\n",
       "      <th>CAS</th>\n",
       "      <th>EC50</th>\n",
       "      <th>category</th>\n",
       "      <th>smiles</th>\n",
       "    </tr>\n",
       "  </thead>\n",
       "  <tbody>\n",
       "    <tr>\n",
       "      <th>0</th>\n",
       "      <td>0</td>\n",
       "      <td>Tetrabromo bisphenol A</td>\n",
       "      <td>TBBPA</td>\n",
       "      <td>79-94-7</td>\n",
       "      <td>4.50</td>\n",
       "      <td>1</td>\n",
       "      <td>CC(C)(C1=CC(=C(C(=C1)Br)O)Br)C2=CC(=C(C(=C2)Br...</td>\n",
       "    </tr>\n",
       "    <tr>\n",
       "      <th>1</th>\n",
       "      <td>2</td>\n",
       "      <td>Triphenyl phosphate</td>\n",
       "      <td>TPP</td>\n",
       "      <td>115-86-6</td>\n",
       "      <td>459.41</td>\n",
       "      <td>3</td>\n",
       "      <td>C1=CC=C(C=C1)OP(=O)(OC2=CC=CC=C2)OC3=CC=CC=C3</td>\n",
       "    </tr>\n",
       "    <tr>\n",
       "      <th>2</th>\n",
       "      <td>3</td>\n",
       "      <td>Benzyl Butyl Phthalate</td>\n",
       "      <td>BBP</td>\n",
       "      <td>85-68-7</td>\n",
       "      <td>4.10</td>\n",
       "      <td>1</td>\n",
       "      <td>CCCCOC(=O)C1=CC=CC=C1C(=O)OCC2=CC=CC=C2</td>\n",
       "    </tr>\n",
       "    <tr>\n",
       "      <th>3</th>\n",
       "      <td>4</td>\n",
       "      <td>Methyl paraben</td>\n",
       "      <td>MP</td>\n",
       "      <td>99-76-3</td>\n",
       "      <td>220.65</td>\n",
       "      <td>3</td>\n",
       "      <td>COC(=O)C1=CC=C(C=C1)O</td>\n",
       "    </tr>\n",
       "    <tr>\n",
       "      <th>4</th>\n",
       "      <td>5</td>\n",
       "      <td>Butyl paraben</td>\n",
       "      <td>BP</td>\n",
       "      <td>94-26-8</td>\n",
       "      <td>116.60</td>\n",
       "      <td>3</td>\n",
       "      <td>CCCCOC(=O)C1=CC=C(C=C1)O</td>\n",
       "    </tr>\n",
       "  </tbody>\n",
       "</table>\n",
       "</div>"
      ],
      "text/plain": [
       "   no                    name     ID       CAS    EC50  category  \\\n",
       "0   0  Tetrabromo bisphenol A  TBBPA   79-94-7    4.50         1   \n",
       "1   2     Triphenyl phosphate    TPP  115-86-6  459.41         3   \n",
       "2   3  Benzyl Butyl Phthalate    BBP   85-68-7    4.10         1   \n",
       "3   4          Methyl paraben     MP   99-76-3  220.65         3   \n",
       "4   5           Butyl paraben     BP   94-26-8  116.60         3   \n",
       "\n",
       "                                              smiles  \n",
       "0  CC(C)(C1=CC(=C(C(=C1)Br)O)Br)C2=CC(=C(C(=C2)Br...  \n",
       "1      C1=CC=C(C=C1)OP(=O)(OC2=CC=CC=C2)OC3=CC=CC=C3  \n",
       "2            CCCCOC(=O)C1=CC=CC=C1C(=O)OCC2=CC=CC=C2  \n",
       "3                              COC(=O)C1=CC=C(C=C1)O  \n",
       "4                           CCCCOC(=O)C1=CC=C(C=C1)O  "
      ]
     },
     "execution_count": 174,
     "metadata": {},
     "output_type": "execute_result"
    }
   ],
   "source": [
    "#loading data\n",
    "directory = 'D:/jupyter_workspace/wmj'\n",
    "# paperdat = pd.read_csv(\"2014acdata.csv\"),  ##remove EC50 value larger than 500 in wmj_smiles2\n",
    "filename = 'wmj_smiles2.csv'\n",
    "data = pd.read_csv(os.path.join(directory,filename))\n",
    "\n",
    "#define labels and the variables\n",
    "###good smiles check ahead of every mds calculation,check the smiles is good canonical smiles \n",
    "smi = mydat['smiles']\n",
    "goodsmi =[]\n",
    "for a in smi:\n",
    "    try:\n",
    "        b = Chem.CanonSmiles(a)\n",
    "        goodsmi.append(b)\n",
    "    except:\n",
    "        print('Invalid SMILES:',b)\n",
    "# goodsmi\n",
    "print('no bad smiles\\n')\n",
    "\n",
    "data['Mol'] = data['smiles'].apply(Chem.MolFromSmiles)\n",
    "num_mols = len(data)"
   ]
  },
  {
   "cell_type": "code",
   "execution_count": 175,
   "metadata": {
    "scrolled": true
   },
   "outputs": [
    {
     "name": "stdout",
     "output_type": "stream",
     "text": [
      "no bad smiles\n",
      "\n",
      "34\n"
     ]
    }
   ],
   "source": [
    "#define labels and the variables\n",
    "###good smiles check ahead of every mds calculation,check the smiles is good canonical smiles \n",
    "smi = mydat['smiles']\n",
    "goodsmi =[]\n",
    "for a in smi:\n",
    "    try:\n",
    "        b = Chem.CanonSmiles(a)\n",
    "        goodsmi.append(b)\n",
    "    except:\n",
    "        print('Invalid SMILES:',b)\n",
    "# goodsmi\n",
    "print('no bad smiles\\n')\n",
    "\n",
    "data['Mol'] = data['smiles'].apply(Chem.MolFromSmiles)\n",
    "num_mols = len(data)\n",
    "print(len(data))"
   ]
  },
  {
   "cell_type": "code",
   "execution_count": 176,
   "metadata": {
    "scrolled": true
   },
   "outputs": [],
   "source": [
    "#Create X and y\n",
    "#Convert to Numpy arrays\n",
    "y = data['category'].values"
   ]
  },
  {
   "cell_type": "code",
   "execution_count": 177,
   "metadata": {
    "scrolled": true
   },
   "outputs": [],
   "source": [
    "from rdkit.Chem.AtomPairs.Sheridan import GetBPFingerprint\n",
    "from rdkit.Chem.EState.Fingerprinter import FingerprintMol\n",
    "from rdkit.Avalon.pyAvalonTools import GetAvalonFP #GetAvalonCountFP  #int vector version\n",
    "from rdkit.Chem.AllChem import  GetMorganFingerprintAsBitVect, GetErGFingerprint,GetHashedAtomPairFingerprintAsBitVect,GetHashedTopologicalTorsionFingerprintAsBitVect\n",
    "from rdkit.DataStructs.cDataStructs import ConvertToNumpyArray\n",
    "import rdkit.DataStructs.cDataStructs\n",
    "\n",
    "def ExplicitBitVect_to_NumpyArray(bitvector):\n",
    "    bitstring = bitvector.ToBitString()\n",
    "    intmap = map(int, bitstring)\n",
    "    return np.array(list(intmap))\n",
    "\n",
    "\n",
    "class fingerprint():\n",
    "    def __init__(self, fp_fun, name):\n",
    "        self.fp_fun = fp_fun\n",
    "        self.name = name\n",
    "        self.x = []\n",
    "\n",
    "    def apply_fp(self, mols):\n",
    "        for mol in mols:\n",
    "            fp = self.fp_fun(mol)\n",
    "            if isinstance(fp, tuple):\n",
    "                fp = np.array(list(fp[0]))\n",
    "            if isinstance(fp, rdkit.DataStructs.cDataStructs.ExplicitBitVect):\n",
    "                fp = ExplicitBitVect_to_NumpyArray(fp)\n",
    "            if isinstance(fp,rdkit.DataStructs.cDataStructs.IntSparseIntVect):\n",
    "                fp = np.array(list(fp))\n",
    "\n",
    "            self.x += [fp]\n",
    "\n",
    "            if (str(type(self.x[0])) != \"<class 'numpy.ndarray'>\"):\n",
    "                print(\"WARNING: type for \", self.name, \"is \", type(self.x[0]))\n",
    "\n",
    "def make_fingerprints(length = 512, verbose=False):\n",
    "    fp_list = [\n",
    "         #fingerprint(lambda x : GetBPFingerprint(x, fpfn=AtomPair), \n",
    "         #            \"Physiochemical properties (1996)\"), ##NOTE: takes a long time to compute\n",
    "         fingerprint(lambda x : GetHashedAtomPairFingerprintAsBitVect(x, nBits = length),\n",
    "                    \" Atom pair (1985)\"),\n",
    "         fingerprint(lambda x : GetHashedTopologicalTorsionFingerprintAsBitVect(x, nBits = length),\n",
    "                     \"Topological torsion (1987)\"),\n",
    "         fingerprint(lambda x : GetMorganFingerprintAsBitVect(x, 2, nBits = length),\n",
    "                     \"Morgan circular \"),\n",
    "         fingerprint(FingerprintMol, \"Estate (1995)\"),\n",
    "         fingerprint(lambda x: GetAvalonFP(x, nBits=length),\n",
    "                    \"Avalon bit based (2006)\"),\n",
    "         fingerprint(lambda x: np.append(GetAvalonFP(x, nBits=length), Descriptors.MolWt(x)),\n",
    "                    \"Avalon+mol. weight\"),\n",
    "         fingerprint(lambda x: GetErGFingerprint(x), \"ErG fingerprint (2006)\"),\n",
    "         fingerprint(lambda x : RDKFingerprint(x, fpSize=length),\n",
    "                     \"RDKit fingerprint\")\n",
    "    ]\n",
    "\n",
    "    for fp in fp_list:\n",
    "        if (verbose): print(\"doing\", fp.name)\n",
    "        fp.apply_fp(list(data['Mol']))\n",
    "\n",
    "    return fp_list\n",
    "\n",
    "fp_list = make_fingerprints()"
   ]
  },
  {
   "cell_type": "code",
   "execution_count": 178,
   "metadata": {
    "scrolled": true
   },
   "outputs": [
    {
     "name": "stdout",
     "output_type": "stream",
     "text": [
      "doing   Atom pair (1985)\n",
      "doing  Topological torsion (1987)\n",
      "doing  Morgan circular \n",
      "doing  Estate (1995)\n",
      "doing  Avalon bit based (2006)\n",
      "doing  Avalon+mol. weight\n",
      "doing  ErG fingerprint (2006)\n",
      "doing  RDKit fingerprint\n",
      "\\begin{tabular}{c c}\n",
      "           name        &  avg accuracy in CV \\\\\n",
      "\\hline\n",
      "              Atom pair (1985) & 0.667 \\\\\n",
      "       Avalon bit based (2006) & 0.667 \\\\\n",
      "            Avalon+mol. weight & 0.667 \\\\\n",
      "              Morgan circular  & 0.692 \\\\\n",
      "             RDKit fingerprint & 0.692 \\\\\n",
      "                 Estate (1995) & 0.717 \\\\\n",
      "        ErG fingerprint (2006) & 0.717 \\\\\n",
      "    Topological torsion (1987) & 0.742 \\\\\n",
      "\\end{tabular}\n"
     ]
    }
   ],
   "source": [
    "from sklearn.model_selection import cross_val_score\n",
    "def test_model_cv(model, x, y, cv=10):\n",
    "    scores = cross_val_score(model, x, y, cv=cv, n_jobs=-1, \n",
    "scoring='accuracy')\n",
    "\n",
    "    return scores.mean()\n",
    "\n",
    "def test_fingerprints(fp_list, model, y, verbose = True):\n",
    "\n",
    "    fingerprint_scores = {}\n",
    "\n",
    "    for fp in fp_list:\n",
    "        if verbose: print(\"doing \", fp.name)\n",
    "        fingerprint_scores[fp.name] = test_model_cv(model, fp.x, y)\n",
    "\n",
    "    sorted_names = sorted(fingerprint_scores, key=fingerprint_scores.__getitem__, reverse=False)\n",
    "\n",
    "    print(\"\\\\begin{tabular}{c c}\")\n",
    "    print(\"           name        &  avg accuracy in CV \\\\\\\\\")\n",
    "    print(\"\\\\hline\")\n",
    "    for i in range(len(sorted_names)):\n",
    "        name = sorted_names[i]\n",
    "        print(\"%30s & %5.3f \\\\\\\\\" % (name, fingerprint_scores[name]))\n",
    "    print(\"\\\\end{tabular}\")\n",
    "\n",
    "    \n",
    "model=RandomForestClassifier(n_estimators=200, max_depth=3,\n",
    "                          random_state=0)\n",
    "test_fingerprints(fp_list,model, y, verbose=True)"
   ]
  },
  {
   "cell_type": "code",
   "execution_count": 180,
   "metadata": {
    "scrolled": true
   },
   "outputs": [],
   "source": [
    "features = fp_list[1].x\n",
    "labels = np.array(y)"
   ]
  },
  {
   "cell_type": "code",
   "execution_count": null,
   "metadata": {
    "scrolled": true
   },
   "outputs": [],
   "source": [
    "# import numpy as np\n",
    "# from rdkit import Chem\n",
    "# from rdkit.Chem import AllChem\n",
    "# from rdkit.Chem import DataStructs\n",
    "# mol = Chem.MolFromSmiles('C1CCCOC1')\n",
    "# fp = AllChem.GetMorganFingerprintAsBitVect(mol, 2, nBits=512)\n",
    "# arr = np.zeros((0,), dtype=np.int8)\n",
    "# arr\n",
    "# DataStructs.ConvertToNumpyArray(fp,arr)\n",
    "# arr"
   ]
  },
  {
   "cell_type": "code",
   "execution_count": null,
   "metadata": {
    "scrolled": true
   },
   "outputs": [],
   "source": [
    "# from rdkit.Chem import DataStructs\n",
    "# fparr=[]\n",
    "# for fp in fplst:\n",
    "#     arr = np.zeros((0,), dtype=int)\n",
    "#     DataStructs.ConvertToNumpyArray(fp,arr)\n",
    "#     print(arr)\n",
    "#     fparr.append(arr)"
   ]
  },
  {
   "cell_type": "code",
   "execution_count": 181,
   "metadata": {
    "scrolled": true
   },
   "outputs": [],
   "source": [
    "#clear dataset and split the data\n",
    "# dataset = {'ID':mydat['ID'], 'MFP':fparr, 'category':mydat['category']}\n",
    "# dataset = pd.DataFrame(dataset, columns = ['ID','MFP','category'])\n",
    "# dataset = dataset.set_index('ID')\n",
    "# features = dataset['MFP']\n",
    "# labels = dataset['category']\n",
    "X_train, X_test, y_train, y_test ,indices_train, indices_test= train_test_split(features, labels, data.index,test_size=0.3, \n",
    "                                                                                 random_state=1)"
   ]
  },
  {
   "cell_type": "markdown",
   "metadata": {},
   "source": [
    "# baseline model with rf，NB classifier"
   ]
  },
  {
   "cell_type": "code",
   "execution_count": 231,
   "metadata": {
    "scrolled": true
   },
   "outputs": [
    {
     "data": {
      "image/png": "[encoded data removed]",
      "text/plain": [
       "<Figure size 432x288 with 1 Axes>"
      ]
     },
     "metadata": {
      "needs_background": "light"
     },
     "output_type": "display_data"
    }
   ],
   "source": [
    "from sklearn.naive_bayes import MultinomialNB\n",
    "from sklearn.linear_model import LogisticRegression\n",
    "from sklearn.ensemble import RandomForestClassifier\n",
    "from sklearn.svm import LinearSVC\n",
    "from sklearn.model_selection import cross_val_score\n",
    "\n",
    "models=[\n",
    "    RandomForestClassifier(n_estimators=200, max_depth=3,\n",
    "                          random_state=0),\n",
    "    LinearSVC(),\n",
    "    MultinomialNB(),\n",
    "    LogisticRegression(random_state=0),\n",
    "]\n",
    "CV=5\n",
    "cv_df = pd.DataFrame(index=range(CV*len(models)))\n",
    "entris=[]\n",
    "for model in models:\n",
    "    model_name = model.__class__.__name__\n",
    "    accuracies = cross_val_score(model, features, labels,\n",
    "                                scoring = 'accuracy', cv=CV)\n",
    "    for fold_idx, accuracy in enumerate(accuracies):\n",
    "        entries.append((model_name,fold_idx, accuracy))\n",
    "cv_df = pd.DataFrame(entries,columns=['model_name','fold_idx',\n",
    "                                         'accuracy'])\n",
    "import seaborn as sns\n",
    "fg=sns.boxplot(x='model_name', y='accuracy', data=cv_df)\n",
    "fg=sns.stripplot(x='model_name', y = 'accuracy', data=cv_df,\n",
    "             size=8, jitter=True, edgecolor='gray', linewidth=2)\n",
    "# plt.show()\n",
    "xlabel=cv_df['model_name']\n",
    "fg.set_xticklabels(xlabel, rotation=45)\n",
    "fg.figure.savefig('classifiercompare.png',bbox_inches='tight')"
   ]
  },
  {
   "cell_type": "code",
   "execution_count": 183,
   "metadata": {},
   "outputs": [
    {
     "data": {
      "text/plain": [
       "model_name\n",
       "LinearSVC                 0.486310\n",
       "LogisticRegression        0.457738\n",
       "MultinomialNB             0.435119\n",
       "RandomForestClassifier    0.463690\n",
       "Name: accuracy, dtype: float64"
      ]
     },
     "execution_count": 183,
     "metadata": {},
     "output_type": "execute_result"
    }
   ],
   "source": [
    "cv_df.groupby('model_name').accuracy.mean()"
   ]
  },
  {
   "cell_type": "code",
   "execution_count": 233,
   "metadata": {},
   "outputs": [],
   "source": [
    "#use LinearSVC for modeling\n",
    "model = LinearSVC()\n",
    "X_train, X_test, y_train, y_test, indices_train, indices_test = train_test_split(features, labels, data.index, test_size=0.33, random_state=0)\n",
    "model.fit(X_train, y_train)\n",
    "y_pred = model.predict(X_test)"
   ]
  },
  {
   "cell_type": "code",
   "execution_count": 236,
   "metadata": {},
   "outputs": [
    {
     "name": "stdout",
     "output_type": "stream",
     "text": [
      "Confusion Matrix\n",
      "\n",
      "[[1 2 1]\n",
      " [0 4 1]\n",
      " [0 0 3]]\n"
     ]
    },
    {
     "data": {
      "text/plain": [
       "<sklearn.metrics._plot.confusion_matrix.ConfusionMatrixDisplay at 0x20e11f3fe48>"
      ]
     },
     "execution_count": 236,
     "metadata": {},
     "output_type": "execute_result"
    },
    {
     "data": {
      "image/png": "[encoded data removed]",
      "text/plain": [
       "<Figure size 432x288 with 2 Axes>"
      ]
     },
     "metadata": {
      "needs_background": "light"
     },
     "output_type": "display_data"
    }
   ],
   "source": [
    "#importing confusion matrix\n",
    "from sklearn.metrics import confusion_matrix\n",
    "from sklearn.metrics import plot_confusion_matrix\n",
    "confusion = confusion_matrix(y_test, y_pred)\n",
    "print('Confusion Matrix\\n')\n",
    "print(confusion)\n",
    "plot_confusion_matrix(model,X_test,y_test)\n"
   ]
  },
  {
   "cell_type": "code",
   "execution_count": 221,
   "metadata": {},
   "outputs": [
    {
     "name": "stdout",
     "output_type": "stream",
     "text": [
      "              precision    recall  f1-score   support\n",
      "\n",
      "      class1       0.00      0.00      0.00         4\n",
      "      class2       0.67      0.80      0.73         5\n",
      "      class3       0.50      1.00      0.67         3\n",
      "\n",
      "    accuracy                           0.58        12\n",
      "   macro avg       0.39      0.60      0.46        12\n",
      "weighted avg       0.40      0.58      0.47        12\n",
      "\n"
     ]
    }
   ],
   "source": [
    "from sklearn import metrics\n",
    "print(metrics.classification_report(y_test,y_pred,\n",
    "                target_names=['class1','class2','class3']))"
   ]
  }
 ],
 "metadata": {
  "kernelspec": {
   "display_name": "Python 3",
   "language": "python",
   "name": "python3"
  },
  "language_info": {
   "codemirror_mode": {
    "name": "ipython",
    "version": 3
   },
   "file_extension": ".py",
   "mimetype": "text/x-python",
   "name": "python",
   "nbconvert_exporter": "python",
   "pygments_lexer": "ipython3",
   "version": "3.7.1"
  }
 },
 "nbformat": 4,
 "nbformat_minor": 4
}
