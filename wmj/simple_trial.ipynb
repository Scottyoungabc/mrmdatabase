{
 "cells": [
  {
   "cell_type": "code",
   "execution_count": 28,
   "metadata": {},
   "outputs": [],
   "source": [
    "import pandas as pd\n",
    "import numpy as np\n",
    "import matplotlib.pyplot as plt\n",
    "from sklearn.model_selection import train_test_split\n",
    "from sklearn.preprocessing import StandardScaler, MinMaxScaler\n",
    "\n",
    "\n",
    "import tensorflow as tf\n",
    "from keras.layers import Dense, Input, Activation\n",
    "from keras.layers import BatchNormalization,Add,Dropout\n",
    "from keras.optimizers import Adam\n",
    "from keras.models import Model, load_model\n",
    "from keras import callbacks\n",
    "from keras import backend as K\n",
    "from keras.layers.advanced_activations import LeakyReLU\n",
    "import warnings\n",
    "warnings.filterwarnings(\"ignore\")\n",
    "warnings.filterwarnings(action=\"ignore\",category=DeprecationWarning)\n",
    "warnings.filterwarnings(action=\"ignore\",category=FutureWarning)\n",
    "import os\n",
    "\n",
    "import pandas as pd\n",
    "import numpy as np\n",
    "import matplotlib.pyplot as plt\n",
    "from sklearn.preprocessing import MinMaxScaler\n",
    "from sklearn.ensemble import RandomForestRegressor\n",
    "%matplotlib inline\n",
    "\n",
    "from pprint import pprint"
   ]
  },
  {
   "cell_type": "code",
   "execution_count": 41,
   "metadata": {},
   "outputs": [
    {
     "data": {
      "text/html": [
       "<div>\n",
       "<style scoped>\n",
       "    .dataframe tbody tr th:only-of-type {\n",
       "        vertical-align: middle;\n",
       "    }\n",
       "\n",
       "    .dataframe tbody tr th {\n",
       "        vertical-align: top;\n",
       "    }\n",
       "\n",
       "    .dataframe thead th {\n",
       "        text-align: right;\n",
       "    }\n",
       "</style>\n",
       "<table border=\"1\" class=\"dataframe\">\n",
       "  <thead>\n",
       "    <tr style=\"text-align: right;\">\n",
       "      <th></th>\n",
       "      <th>Unnamed: 0</th>\n",
       "      <th>Unnamed: 1</th>\n",
       "      <th>ID</th>\n",
       "      <th>CAS</th>\n",
       "      <th>EC50</th>\n",
       "      <th>smiles</th>\n",
       "    </tr>\n",
       "  </thead>\n",
       "  <tbody>\n",
       "    <tr>\n",
       "      <th>0</th>\n",
       "      <td>0</td>\n",
       "      <td>Tetrabromo bisphenol A</td>\n",
       "      <td>TBBPA</td>\n",
       "      <td>79-94-7</td>\n",
       "      <td>4.50</td>\n",
       "      <td>CC(C)(C1=CC(=C(C(=C1)Br)O)Br)C2=CC(=C(C(=C2)Br...</td>\n",
       "    </tr>\n",
       "    <tr>\n",
       "      <th>1</th>\n",
       "      <td>2</td>\n",
       "      <td>Triphenyl phosphate</td>\n",
       "      <td>TPP</td>\n",
       "      <td>115-86-6</td>\n",
       "      <td>459.41</td>\n",
       "      <td>C1=CC=C(C=C1)OP(=O)(OC2=CC=CC=C2)OC3=CC=CC=C3</td>\n",
       "    </tr>\n",
       "    <tr>\n",
       "      <th>2</th>\n",
       "      <td>3</td>\n",
       "      <td>Benzyl Butyl Phthalate</td>\n",
       "      <td>BBP</td>\n",
       "      <td>85-68-7</td>\n",
       "      <td>4.10</td>\n",
       "      <td>CCCCOC(=O)C1=CC=CC=C1C(=O)OCC2=CC=CC=C2</td>\n",
       "    </tr>\n",
       "    <tr>\n",
       "      <th>3</th>\n",
       "      <td>4</td>\n",
       "      <td>Methyl paraben</td>\n",
       "      <td>MP</td>\n",
       "      <td>99-76-3</td>\n",
       "      <td>220.65</td>\n",
       "      <td>COC(=O)C1=CC=C(C=C1)O</td>\n",
       "    </tr>\n",
       "    <tr>\n",
       "      <th>4</th>\n",
       "      <td>5</td>\n",
       "      <td>Butyl paraben</td>\n",
       "      <td>BP</td>\n",
       "      <td>94-26-8</td>\n",
       "      <td>116.60</td>\n",
       "      <td>CCCCOC(=O)C1=CC=C(C=C1)O</td>\n",
       "    </tr>\n",
       "  </tbody>\n",
       "</table>\n",
       "</div>"
      ],
      "text/plain": [
       "   Unnamed: 0              Unnamed: 1     ID       CAS    EC50  \\\n",
       "0           0  Tetrabromo bisphenol A  TBBPA   79-94-7    4.50   \n",
       "1           2     Triphenyl phosphate    TPP  115-86-6  459.41   \n",
       "2           3  Benzyl Butyl Phthalate    BBP   85-68-7    4.10   \n",
       "3           4          Methyl paraben     MP   99-76-3  220.65   \n",
       "4           5           Butyl paraben     BP   94-26-8  116.60   \n",
       "\n",
       "                                              smiles  \n",
       "0  CC(C)(C1=CC(=C(C(=C1)Br)O)Br)C2=CC(=C(C(=C2)Br...  \n",
       "1      C1=CC=C(C=C1)OP(=O)(OC2=CC=CC=C2)OC3=CC=CC=C3  \n",
       "2            CCCCOC(=O)C1=CC=CC=C1C(=O)OCC2=CC=CC=C2  \n",
       "3                              COC(=O)C1=CC=C(C=C1)O  \n",
       "4                           CCCCOC(=O)C1=CC=C(C=C1)O  "
      ]
     },
     "execution_count": 41,
     "metadata": {},
     "output_type": "execute_result"
    }
   ],
   "source": [
    "import csv\n",
    "import pandas as pd\n",
    "import os\n",
    "directory = 'D:/jupyter_workspace/wmj'\n",
    "# paperdat = pd.read_csv(\"2014acdata.csv\"),  ##remove EC50 value larger than 500 in wmj_smiles2\n",
    "filename = 'wmj_smiles2.csv'\n",
    "mydat = pd.read_csv(os.path.join(directory,filename))\n",
    "mydat.head()\n",
    "EC50 =\n",
    "mydat['EC50']"
   ]
  },
  {
   "cell_type": "code",
   "execution_count": 42,
   "metadata": {},
   "outputs": [
    {
     "name": "stdout",
     "output_type": "stream",
     "text": [
      "no bad smiles\n",
      "\n",
      "calculation of molecular descriptors\n",
      "\n",
      "descriptors number: 1826\n"
     ]
    },
    {
     "name": "stderr",
     "output_type": "stream",
     "text": [
      "100%|██████████| 36/36 [00:05<00:00,  6.29it/s]\n"
     ]
    },
    {
     "name": "stdout",
     "output_type": "stream",
     "text": [
      "data reduction starts\n",
      "\n",
      "mds data dimesion is(36, 1826)\n",
      "\n",
      "mds data dimesion after reduction is(36, 963)\n",
      "\n",
      "thetop30posfactors: \n",
      " GATS1c         0.730373\n",
      "BCUTc-1h       0.698517\n",
      "NdO            0.638393\n",
      "SdO            0.625002\n",
      "nBondsD        0.624481\n",
      "nAcid          0.613081\n",
      "BCUTdv-1h      0.593911\n",
      "GATS1p         0.593713\n",
      "PEOE_VSA2      0.581767\n",
      "BCUTs-1h       0.573689\n",
      "ATSC6i         0.570284\n",
      "nO             0.546217\n",
      "MID_O          0.535070\n",
      "SpMAD_Dzp      0.518820\n",
      "TopoPSA        0.516248\n",
      "BCUTp-1h       0.509823\n",
      "AETA_beta_s    0.502708\n",
      "SlogP_VSA2     0.490475\n",
      "MID_h          0.477986\n",
      "FCSP3          0.477561\n",
      "HybRatio       0.477561\n",
      "AMID_h         0.475470\n",
      "TopoPSA(NO)    0.474690\n",
      "GATS1i         0.471401\n",
      "SpAbs_Dzp      0.468339\n",
      "ETA_shape_x    0.467996\n",
      "BCUTm-1l       0.463982\n",
      "nHetero        0.463211\n",
      "BCUTZ-1l       0.462813\n",
      "Name: EC50, dtype: float64\n",
      "thetop30negfactors: \n",
      " SlogP_VSA11    -0.448505\n",
      "AATSC1pe       -0.453207\n",
      "AATSC1se       -0.454294\n",
      "AETA_beta_ns   -0.460359\n",
      "ATSC1c         -0.461550\n",
      "SddssS         -0.463800\n",
      "ATSC1se        -0.466783\n",
      "AATSC1dv       -0.467369\n",
      "RNCG           -0.472295\n",
      "SMR_VSA7       -0.485768\n",
      "naRing         -0.491122\n",
      "n6aRing        -0.491122\n",
      "nAromBond      -0.491122\n",
      "nAromAtom      -0.491122\n",
      "nBondsA        -0.491122\n",
      "AATSC1i        -0.494048\n",
      "AATSC1are      -0.503122\n",
      "BCUTi-1l       -0.505386\n",
      "SaasC          -0.506253\n",
      "AETA_dBeta     -0.510274\n",
      "ATSC1pe        -0.515767\n",
      "ETA_dBeta      -0.529432\n",
      "JGI9           -0.532167\n",
      "AATSC1p        -0.543836\n",
      "VSA_EState9    -0.554217\n",
      "ATSC1are       -0.576806\n",
      "C3SP2          -0.588168\n",
      "BCUTs-1l       -0.589593\n",
      "NaasC          -0.599376\n",
      "BCUTd-1l       -0.644653\n",
      "Name: EC50, dtype: float64\n",
      "check the normaality of the dataset:\n",
      "\n"
     ]
    },
    {
     "data": {
      "image/png": "[encoded data removed]",
      "text/plain": [
       "<Figure size 432x288 with 1 Axes>"
      ]
     },
     "metadata": {
      "needs_background": "light"
     },
     "output_type": "display_data"
    },
    {
     "data": {
      "image/png": "[encoded data removed]",
      "text/plain": [
       "<Figure size 432x288 with 1 Axes>"
      ]
     },
     "metadata": {
      "needs_background": "light"
     },
     "output_type": "display_data"
    }
   ],
   "source": [
    "##########################good smiles check ahead of every mds calculation,check the smiles is good canonical smiles \n",
    "smi = mydat['smiles']\n",
    "goodsmi =[]\n",
    "for a in smi:\n",
    "    try:\n",
    "        b= Chem.CanonSmiles(a)\n",
    "        goodsmi.append(b)\n",
    "    except:\n",
    "        print('Invalid SMILES:',a)\n",
    "# goodsmi\n",
    "print('no bad smiles\\n')\n",
    "\n",
    "#########################import rdkit and rdkit chem and calculate the descriptors\n",
    "print('calculation of molecular descriptors\\n')\n",
    "from rdkit import Chem\n",
    "from mordred import Calculator, descriptors\n",
    "#create descriptor calculator with all descriptors including 3D descriptors，check the smiles are right with a for loop\n",
    "calc=Calculator(descriptors, ignore_3D=False)\n",
    "lenofmds = len(calc.descriptors)\n",
    "print(\"descriptors number:{:5}\".format(lenofmds))\n",
    "#read smiles list from csv file\n",
    "mols=[Chem.MolFromSmiles(smi) for smi in mydat['smiles']]\n",
    "mddf = calc.pandas(mols)\n",
    "#output the result\n",
    "# mddf.to_csv(\"wmjEC50_mds.csv\")\n",
    "\n",
    "########################molecular descriptors reduction and selection\n",
    "print('data reduction starts\\n')\n",
    "#retain molecular descriptors only contain numeric value for all molecues\n",
    "print('mds data dimesion is{}\\n'.format(mddf.shape))\n",
    "mds2 = mddf.select_dtypes([\"number\"])\n",
    "#remove any constant in the dataframe\n",
    "#checking unique values\n",
    "unique = mds2.nunique().reset_index()\n",
    "unique.columns = [\"colname\", \"unique_count\"]\n",
    "unique.head(10)\n",
    "#columns with constant value\n",
    "constant= unique[unique[\"unique_count\"]==1]\n",
    "#dropping columns with constant value\n",
    "mds2.drop(columns= constant['colname'],inplace=True)\n",
    "print('mds data dimesion after reduction is{}\\n'.format(mds2.shape))\n",
    "\n",
    "######################features importances searching\n",
    "mds2['EC50'] = mydat['EC50']\n",
    "##find the correlation of factors and respective EC50 values\n",
    "correlation = mds2[mds2.columns[:]].corr()['EC50'][:]\n",
    "correlation = correlation.sort_values(ascending=False)\n",
    "print('thetop30posfactors: \\n', correlation[1:30])  ###find the best heatmap for correlation apperance\n",
    "print('thetop30negfactors: \\n', correlation[-30:])\n",
    "\n",
    "######################data split for training and test \n",
    "mds2[\"compound\"] = mydat[\"ID\"]\n",
    "mds2['EC50'] = mydat['EC50']\n",
    "\n",
    "from sklearn.model_selection import train_test_split\n",
    "Y = mds2['EC50']\n",
    "# Y = np.log(Y)\n",
    "X = mds2.drop('EC50', axis=1)\n",
    "X_train, X_test, Y_train, Y_test = train_test_split(X,Y, test_size=0.2, random_state=42)\n",
    "\n",
    "evaluationdat = pd.DataFrame()\n",
    "evaluationdat['name'] = X_test['compound']\n",
    "evaluationdat['EC50'] = Y_test\n",
    "testID = X_test['compound']\n",
    "X_train.set_index('compound', inplace=True)\n",
    "X_test.set_index('compound', inplace=True)\n",
    "\n",
    "####################check the normaality of the dataset\n",
    "print('check the normaality of the dataset:\\n')\n",
    "from scipy.stats import norm\n",
    "import seaborn as sns\n",
    "from scipy import stats\n",
    "sns.distplot(Y_train, fit = norm);\n",
    "fig=plt.figure()\n",
    "res = stats.probplot(Y_train, plot = plt)"
   ]
  },
  {
   "cell_type": "markdown",
   "metadata": {},
   "source": [
    "# model construction and parameters tunning"
   ]
  },
  {
   "cell_type": "code",
   "execution_count": 55,
   "metadata": {},
   "outputs": [
    {
     "name": "stdout",
     "output_type": "stream",
     "text": [
      "randomforest regression construction.....\n",
      "\n",
      "random forest parameters currently in use:\n",
      "\n",
      "{'bootstrap': True,\n",
      " 'ccp_alpha': 0.0,\n",
      " 'criterion': 'mse',\n",
      " 'max_depth': None,\n",
      " 'max_features': 'auto',\n",
      " 'max_leaf_nodes': None,\n",
      " 'max_samples': None,\n",
      " 'min_impurity_decrease': 0.0,\n",
      " 'min_impurity_split': None,\n",
      " 'min_samples_leaf': 1,\n",
      " 'min_samples_split': 2,\n",
      " 'min_weight_fraction_leaf': 0.0,\n",
      " 'n_estimators': 100,\n",
      " 'n_jobs': -1,\n",
      " 'oob_score': False,\n",
      " 'random_state': 42,\n",
      " 'verbose': 0,\n",
      " 'warm_start': False}\n",
      "random forest parameters currently in use:\n",
      "\n",
      "{'bootstrap': True,\n",
      " 'ccp_alpha': 0.0,\n",
      " 'criterion': 'mse',\n",
      " 'max_depth': None,\n",
      " 'max_features': 'auto',\n",
      " 'max_leaf_nodes': None,\n",
      " 'max_samples': None,\n",
      " 'min_impurity_decrease': 0.0,\n",
      " 'min_impurity_split': None,\n",
      " 'min_samples_leaf': 1,\n",
      " 'min_samples_split': 2,\n",
      " 'min_weight_fraction_leaf': 0.0,\n",
      " 'n_estimators': 100,\n",
      " 'n_jobs': -1,\n",
      " 'oob_score': False,\n",
      " 'random_state': 42,\n",
      " 'verbose': 0,\n",
      " 'warm_start': False}\n",
      "RFregression performance:\n",
      "\n",
      "120.89001028418869\n",
      "14614.394586511247\n",
      "generating the scatter plots for the RF regression modeling.....\n",
      "\n"
     ]
    },
    {
     "data": {
      "text/plain": [
       "Text(0, 150, 'r-squred = -4.795444')"
      ]
     },
     "execution_count": 55,
     "metadata": {},
     "output_type": "execute_result"
    },
    {
     "data": {
      "image/png": "[encoded data removed]",
      "text/plain": [
       "<Figure size 432x288 with 1 Axes>"
      ]
     },
     "metadata": {
      "needs_background": "light"
     },
     "output_type": "display_data"
    }
   ],
   "source": [
    "#################random forest feature engineering\n",
    "print('randomforest regression construction.....\\n')\n",
    "RF = RandomForestRegressor(random_state=42, n_jobs=-1)\n",
    "RF.fit(X_train,Y_train)\n",
    "print('random forest parameters currently in use:\\n')\n",
    "pprint(RF.get_params())\n",
    "from pprint import pprint\n",
    "print('random forest parameters currently in use:\\n')\n",
    "pprint(RF.get_params())\n",
    "\n",
    "##define metrics functions\n",
    "from sklearn.metrics import r2_score\n",
    "from sklearn.metrics import mean_squared_error as mse\n",
    "\n",
    "# def evaluate(model, features, labels):\n",
    "#     predictions = model.predict(features)\n",
    "#     errors = abs(predictions-labels)\n",
    "#     m = 100*(errors/labels)\n",
    "#     accuracy = 100-np.mean(m)\n",
    "#     print('model performance')\n",
    "#     print('average error:{:0.4f}degrees.'.format(np.mean(errors)))\n",
    "#     print('accuracy:',round(accuracy,2),'%.')  \n",
    "#     return accuracy\n",
    "\n",
    "#prediction on random forest\n",
    "RF_target = RF.predict(X_test)\n",
    "print('RFregression performance:\\n')\n",
    "print(rmse(RF_target, Y_test))\n",
    "print(mse(RF_target, Y_test))\n",
    "\n",
    "#calculation the accuracy other than rmse\n",
    "# print('RF accuracy:\\n')\n",
    "# valid_accuracy = evaluate(RF, X_test, Y_test)\n",
    "\n",
    "##scatter plot for the RF regression\n",
    "print('generating the scatter plots for the RF regression modeling.....\\n')\n",
    "y = Y_test\n",
    "\n",
    "import os\n",
    "output_path = os.path.abspath('D:/jupyter_workspace/wmj')\n",
    "#random forest plots\n",
    "fig,ax2 = plt.subplots()\n",
    "plt.xlim(-50,400)\n",
    "plt.ylim(-50,180)\n",
    "ax2.scatter(RF_target,y)\n",
    "ax2.set_title('rf vs actual')\n",
    "ax2.set_xlabel('predicted')\n",
    "ax2.set_ylabel('experiment')\n",
    "ax2.annotate('r-squred = {:3f}'.format(r2_score(y,RF_target)),(0,150))"
   ]
  },
  {
   "cell_type": "markdown",
   "metadata": {},
   "source": [
    "# linear regression modeling construction"
   ]
  },
  {
   "cell_type": "code",
   "execution_count": 54,
   "metadata": {},
   "outputs": [
    {
     "name": "stdout",
     "output_type": "stream",
     "text": [
      "linear regression modeling constructing.....:\n",
      "\n",
      "generating the top30 important features....\n",
      "\n",
      "using features with importances>0.05\n",
      "<class 'mordred._base.pandas_module.MordredDataFrame'>\n",
      "r-square of the model:\n",
      " -3.2254161802050474\n"
     ]
    },
    {
     "data": {
      "text/plain": [
       "Text(0, 150, 'r-squred = -3.225416')"
      ]
     },
     "execution_count": 54,
     "metadata": {},
     "output_type": "execute_result"
    },
    {
     "data": {
      "image/png": "[encoded data removed]",
      "text/plain": [
       "<Figure size 432x288 with 1 Axes>"
      ]
     },
     "metadata": {
      "needs_background": "light"
     },
     "output_type": "display_data"
    },
    {
     "data": {
      "image/png": "[encoded data removed]",
      "text/plain": [
       "<Figure size 432x288 with 1 Axes>"
      ]
     },
     "metadata": {
      "needs_background": "light"
     },
     "output_type": "display_data"
    }
   ],
   "source": [
    "print('linear regression modeling constructing.....:\\n')\n",
    "feature_names = X_train.columns\n",
    "importances=RF.feature_importances_\n",
    "featuredata =  pd.DataFrame(importances,feature_names)\n",
    "featuredata.columns = ['importance']\n",
    "featuredata = featuredata.sort_values(by=['importance'], ascending = False)\n",
    "top30 = featuredata[:30]\n",
    "\n",
    "#barplots of all the important features\n",
    "print('generating the top30 important features....\\n')\n",
    "output_path = 'D:/jupyter_workspace/IE-ANN/resultfigure'\n",
    "top30['importance'].plot(kind='bar', title='test')\n",
    "plt.title('EC50 top30 features')\n",
    "plt.xlabel('feature')\n",
    "plt.ylabel('importance 0-1')\n",
    "outputfig = \"EC50 top30 features_normalreform.jpg\"\n",
    "plt.savefig(os.path.join(output_path,outputfig), dpi=300, \n",
    "            quality = 80, optimize = True, progressive = True)\n",
    "\n",
    "##use features with importances > 0.05 to make linear regression\n",
    "print('using features with importances>0.05')\n",
    "print(type(X_train))\n",
    "X_train2 = X_train[['nAcid','NdO','FCSP3','HybRatio','SlogP_VSA2',\n",
    " 'SdO','nBondsD','PEOE_VSA2','C2SP3','NaasC','C3SP2','nAromAtom',\n",
    " 'nAromBond','nBondsA','naRing','n6aRing','SMR_VSA7','SlogP_VSA11','nBondsM']]\n",
    "X_test2 = X_test[['nAcid','NdO','FCSP3','HybRatio','SlogP_VSA2',\n",
    " 'SdO','nBondsD','PEOE_VSA2','C2SP3','NaasC','C3SP2','nAromAtom',\n",
    " 'nAromBond','nBondsA','naRing','n6aRing','SMR_VSA7','SlogP_VSA11','nBondsM']]\n",
    "    \n",
    "from sklearn import linear_model\n",
    "regr = linear_model.LinearRegression()\n",
    "regr.fit(X_train2,Y_train)\n",
    "# print(regr.intercept_)\n",
    "# print(regr.coef_)\n",
    "\n",
    "y = Y_test\n",
    "regrtarget = regr.predict(X_test2)\n",
    "print('r-square of the model:\\n',r2_score(y,regrtarget))\n",
    "    \n",
    "####generating scatter plots for the linear model\n",
    "output_path = os.path.abspath('D:/jupyter_workspace/wmj')\n",
    "fig,ax2 = plt.subplots()\n",
    "# plt.xlim(-50,500)\n",
    "plt.ylim(-50,200)\n",
    "ax2.scatter(regrtarget,y)\n",
    "ax2.set_title('linear vs actual')\n",
    "ax2.set_xlabel('predicted')\n",
    "ax2.set_ylabel('experiment')\n",
    "ax2.annotate('r-squred = {:3f}'.format(r2_score(y,regrtarget)),(0,150))"
   ]
  }
 ],
 "metadata": {
  "kernelspec": {
   "display_name": "Python 3",
   "language": "python",
   "name": "python3"
  },
  "language_info": {
   "codemirror_mode": {
    "name": "ipython",
    "version": 3
   },
   "file_extension": ".py",
   "mimetype": "text/x-python",
   "name": "python",
   "nbconvert_exporter": "python",
   "pygments_lexer": "ipython3",
   "version": "3.7.1"
  }
 },
 "nbformat": 4,
 "nbformat_minor": 4
}
